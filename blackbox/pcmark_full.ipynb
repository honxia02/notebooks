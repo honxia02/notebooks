{
 "cells": [
  {
   "cell_type": "code",
   "execution_count": null,
   "id": "d98454aa-67bd-4000-826d-da3ec08b4e44",
   "metadata": {},
   "outputs": [],
   "source": [
    "# PLEASE READ:\n",
    "# This notebook here is mostly compiling the results AFTER the benchmarks are\n",
    "# done. If you use this notebook, please install LISA\n",
    "#     https://github.com/ARM-software/lisa\n",
    "# and then workload-processor\n",
    "#     https://github.com/mrkajetanp/workload-processor.git\n",
    "# first. After the installation, run this workload via:\n",
    "# $ workload-processor run $WORKLOAD_PROCESSOR_INSTALL_DIR/agendas/agenda_pcmark.yaml baseline\n",
    "# $ workload-processor run $WORKLOAD_PROCESSOR_INSTALL_DIR/agendas/agenda_pcmark.yaml test\n",
    "# This will give you two directories of\n",
    "#     pcmark_baseline_$RUNS_$DATE\n",
    "# and\n",
    "#     pcmark_test_$RUNS_$DATE\n",
    "# To obtain power consumption results on the two benchmark runs, do\n",
    "# $ workload-processor process pcmark_baseline_$RUNS_$DATE -m power\n",
    "# and then\n",
    "# $ workload-processor process pcmark_test_$RUNS_$DATE -m power\n",
    "#\n",
    "# Only after this should you start using this notebook. The reason is that\n",
    "# these benchmark runs generate a huge amount of traces. Running the benchmarks\n",
    "# inside this notebook can easily crash Jupyter completely."
   ]
  },
  {
   "cell_type": "code",
   "execution_count": null,
   "id": "c19f0626-001d-4065-a07e-f1ba1e910f45",
   "metadata": {},
   "outputs": [],
   "source": [
    "import os\n",
    "import logging as log\n",
    "\n",
    "from lisa.utils import setup_logging\n",
    "setup_logging(level=log.ERROR)\n",
    "\n",
    "from lisa.trace import Trace\n",
    "from lisa.wa import WAOutput\n",
    "from lisa.stats import Stats\n",
    "from lisa.datautils import series_mean\n",
    "from pandas import DataFrame\n",
    "import pandas as pd\n",
    "import scipy as sp\n",
    "import numpy as np\n",
    "import plotly.express as px\n",
    "import plotly.io as pio\n",
    "import plotly.graph_objects as go\n",
    "import holoviews as hv\n",
    "from holoviews import opts\n",
    "from bokeh.themes import built_in_themes\n",
    "from tabulate import tabulate\n",
    "\n",
    "from holoviews.operation.datashader import datashade, rasterize\n",
    "from holoviews.operation import decimate\n",
    "\n",
    "from wp.notebook import WorkloadNotebookAnalysis, setup_notebook\n",
    "\n",
    "setup_notebook()"
   ]
  },
  {
   "cell_type": "code",
   "execution_count": 16,
   "id": "3cb721eb-26c8-407c-804f-c524d5c3f6c4",
   "metadata": {},
   "outputs": [
    {
     "data": {
      "text/html": [
       "<div>\n",
       "<style scoped>\n",
       "    .dataframe tbody tr th:only-of-type {\n",
       "        vertical-align: middle;\n",
       "    }\n",
       "\n",
       "    .dataframe tbody tr th {\n",
       "        vertical-align: top;\n",
       "    }\n",
       "\n",
       "    .dataframe thead th {\n",
       "        text-align: right;\n",
       "    }\n",
       "</style>\n",
       "<table border=\"1\" class=\"dataframe\">\n",
       "  <thead>\n",
       "    <tr style=\"text-align: right;\">\n",
       "      <th></th>\n",
       "      <th>metric</th>\n",
       "      <th>value</th>\n",
       "      <th>unit</th>\n",
       "      <th>iteration</th>\n",
       "      <th>workload</th>\n",
       "      <th>id</th>\n",
       "      <th>wa_path</th>\n",
       "      <th>kernel</th>\n",
       "      <th>tag</th>\n",
       "    </tr>\n",
       "  </thead>\n",
       "  <tbody>\n",
       "    <tr>\n",
       "      <th>0</th>\n",
       "      <td>PcmaDataManipulationV3Score</td>\n",
       "      <td>11264</td>\n",
       "      <td></td>\n",
       "      <td>1</td>\n",
       "      <td>pcmark</td>\n",
       "      <td>wk1</td>\n",
       "      <td>pcmark_mainroomuclamp_10_1110</td>\n",
       "      <td>5.18.0-armpower-00029-gc35255a0e739</td>\n",
       "      <td>mainroomuclamp</td>\n",
       "    </tr>\n",
       "    <tr>\n",
       "      <th>1</th>\n",
       "      <td>PcmaVideoEditingV3Score</td>\n",
       "      <td>6788</td>\n",
       "      <td></td>\n",
       "      <td>1</td>\n",
       "      <td>pcmark</td>\n",
       "      <td>wk1</td>\n",
       "      <td>pcmark_mainroomuclamp_10_1110</td>\n",
       "      <td>5.18.0-armpower-00029-gc35255a0e739</td>\n",
       "      <td>mainroomuclamp</td>\n",
       "    </tr>\n",
       "    <tr>\n",
       "      <th>2</th>\n",
       "      <td>PcmaWritingV3Score</td>\n",
       "      <td>13099</td>\n",
       "      <td></td>\n",
       "      <td>1</td>\n",
       "      <td>pcmark</td>\n",
       "      <td>wk1</td>\n",
       "      <td>pcmark_mainroomuclamp_10_1110</td>\n",
       "      <td>5.18.0-armpower-00029-gc35255a0e739</td>\n",
       "      <td>mainroomuclamp</td>\n",
       "    </tr>\n",
       "    <tr>\n",
       "      <th>3</th>\n",
       "      <td>PcmaPhotoEditingV3Score</td>\n",
       "      <td>12895</td>\n",
       "      <td></td>\n",
       "      <td>1</td>\n",
       "      <td>pcmark</td>\n",
       "      <td>wk1</td>\n",
       "      <td>pcmark_mainroomuclamp_10_1110</td>\n",
       "      <td>5.18.0-armpower-00029-gc35255a0e739</td>\n",
       "      <td>mainroomuclamp</td>\n",
       "    </tr>\n",
       "    <tr>\n",
       "      <th>4</th>\n",
       "      <td>PcmaWebV3Score</td>\n",
       "      <td>5951</td>\n",
       "      <td></td>\n",
       "      <td>1</td>\n",
       "      <td>pcmark</td>\n",
       "      <td>wk1</td>\n",
       "      <td>pcmark_mainroomuclamp_10_1110</td>\n",
       "      <td>5.18.0-armpower-00029-gc35255a0e739</td>\n",
       "      <td>mainroomuclamp</td>\n",
       "    </tr>\n",
       "    <tr>\n",
       "      <th>...</th>\n",
       "      <td>...</td>\n",
       "      <td>...</td>\n",
       "      <td>...</td>\n",
       "      <td>...</td>\n",
       "      <td>...</td>\n",
       "      <td>...</td>\n",
       "      <td>...</td>\n",
       "      <td>...</td>\n",
       "      <td>...</td>\n",
       "    </tr>\n",
       "    <tr>\n",
       "      <th>175</th>\n",
       "      <td>PcmaWritingV3Score</td>\n",
       "      <td>12510</td>\n",
       "      <td></td>\n",
       "      <td>10</td>\n",
       "      <td>pcmark</td>\n",
       "      <td>wk1</td>\n",
       "      <td>pcmark_sumroomdiv4_10_1110</td>\n",
       "      <td>5.18.0-armpower-00036-g7f9273f79788</td>\n",
       "      <td>sumroomdiv4</td>\n",
       "    </tr>\n",
       "    <tr>\n",
       "      <th>176</th>\n",
       "      <td>PcmaDataManipulationV3Score</td>\n",
       "      <td>11400</td>\n",
       "      <td></td>\n",
       "      <td>10</td>\n",
       "      <td>pcmark</td>\n",
       "      <td>wk1</td>\n",
       "      <td>pcmark_sumroomdiv4_10_1110</td>\n",
       "      <td>5.18.0-armpower-00036-g7f9273f79788</td>\n",
       "      <td>sumroomdiv4</td>\n",
       "    </tr>\n",
       "    <tr>\n",
       "      <th>177</th>\n",
       "      <td>PcmaVideoEditingV3Score</td>\n",
       "      <td>6054</td>\n",
       "      <td></td>\n",
       "      <td>10</td>\n",
       "      <td>pcmark</td>\n",
       "      <td>wk1</td>\n",
       "      <td>pcmark_sumroomdiv4_10_1110</td>\n",
       "      <td>5.18.0-armpower-00036-g7f9273f79788</td>\n",
       "      <td>sumroomdiv4</td>\n",
       "    </tr>\n",
       "    <tr>\n",
       "      <th>178</th>\n",
       "      <td>PcmaWorkv3Score</td>\n",
       "      <td>9319</td>\n",
       "      <td></td>\n",
       "      <td>10</td>\n",
       "      <td>pcmark</td>\n",
       "      <td>wk1</td>\n",
       "      <td>pcmark_sumroomdiv4_10_1110</td>\n",
       "      <td>5.18.0-armpower-00036-g7f9273f79788</td>\n",
       "      <td>sumroomdiv4</td>\n",
       "    </tr>\n",
       "    <tr>\n",
       "      <th>179</th>\n",
       "      <td>PcmaPhotoEditingV3Score</td>\n",
       "      <td>13847</td>\n",
       "      <td></td>\n",
       "      <td>10</td>\n",
       "      <td>pcmark</td>\n",
       "      <td>wk1</td>\n",
       "      <td>pcmark_sumroomdiv4_10_1110</td>\n",
       "      <td>5.18.0-armpower-00036-g7f9273f79788</td>\n",
       "      <td>sumroomdiv4</td>\n",
       "    </tr>\n",
       "  </tbody>\n",
       "</table>\n",
       "<p>180 rows × 9 columns</p>\n",
       "</div>"
      ],
      "text/plain": [
       "                          metric  value unit  iteration workload   id  \\\n",
       "0    PcmaDataManipulationV3Score  11264               1   pcmark  wk1   \n",
       "1        PcmaVideoEditingV3Score   6788               1   pcmark  wk1   \n",
       "2             PcmaWritingV3Score  13099               1   pcmark  wk1   \n",
       "3        PcmaPhotoEditingV3Score  12895               1   pcmark  wk1   \n",
       "4                 PcmaWebV3Score   5951               1   pcmark  wk1   \n",
       "..                           ...    ...  ...        ...      ...  ...   \n",
       "175           PcmaWritingV3Score  12510              10   pcmark  wk1   \n",
       "176  PcmaDataManipulationV3Score  11400              10   pcmark  wk1   \n",
       "177      PcmaVideoEditingV3Score   6054              10   pcmark  wk1   \n",
       "178              PcmaWorkv3Score   9319              10   pcmark  wk1   \n",
       "179      PcmaPhotoEditingV3Score  13847              10   pcmark  wk1   \n",
       "\n",
       "                           wa_path                               kernel  \\\n",
       "0    pcmark_mainroomuclamp_10_1110  5.18.0-armpower-00029-gc35255a0e739   \n",
       "1    pcmark_mainroomuclamp_10_1110  5.18.0-armpower-00029-gc35255a0e739   \n",
       "2    pcmark_mainroomuclamp_10_1110  5.18.0-armpower-00029-gc35255a0e739   \n",
       "3    pcmark_mainroomuclamp_10_1110  5.18.0-armpower-00029-gc35255a0e739   \n",
       "4    pcmark_mainroomuclamp_10_1110  5.18.0-armpower-00029-gc35255a0e739   \n",
       "..                             ...                                  ...   \n",
       "175     pcmark_sumroomdiv4_10_1110  5.18.0-armpower-00036-g7f9273f79788   \n",
       "176     pcmark_sumroomdiv4_10_1110  5.18.0-armpower-00036-g7f9273f79788   \n",
       "177     pcmark_sumroomdiv4_10_1110  5.18.0-armpower-00036-g7f9273f79788   \n",
       "178     pcmark_sumroomdiv4_10_1110  5.18.0-armpower-00036-g7f9273f79788   \n",
       "179     pcmark_sumroomdiv4_10_1110  5.18.0-armpower-00036-g7f9273f79788   \n",
       "\n",
       "                tag  \n",
       "0    mainroomuclamp  \n",
       "1    mainroomuclamp  \n",
       "2    mainroomuclamp  \n",
       "3    mainroomuclamp  \n",
       "4    mainroomuclamp  \n",
       "..              ...  \n",
       "175     sumroomdiv4  \n",
       "176     sumroomdiv4  \n",
       "177     sumroomdiv4  \n",
       "178     sumroomdiv4  \n",
       "179     sumroomdiv4  \n",
       "\n",
       "[180 rows x 9 columns]"
      ]
     },
     "metadata": {},
     "output_type": "display_data"
    },
    {
     "name": "stdout",
     "output_type": "stream",
     "text": [
      "benchmark_dirs: ['pcmark_mainroomuclamp_10_1110', 'pcmark_sumroomdiv3.2_10_1110', 'pcmark_sumroomdiv4_10_1110']\n",
      "tags: ['mainroomuclamp', 'sumroomdiv3.2', 'sumroomdiv4']\n",
      "kernels: ['5.18.0-armpower-00029-gc35255a0e739', '5.18.0-armpower-00036-g769ac0cc40ef', '5.18.0-armpower-00036-g7f9273f79788']\n"
     ]
    }
   ],
   "source": [
    "pcmark = WorkloadNotebookAnalysis('/home/honxia02/spare_hdd/lisa', [\n",
    "    'pcmark_mainroomuclamp_10_1110',\n",
    "    'pcmark_sumroomdiv3.2_10_1110',\n",
    "    'pcmark_sumroomdiv4_10_1110'\n",
    "], label='PCMark Work 3')\n",
    "\n",
    "pcmark.show()"
   ]
  },
  {
   "cell_type": "code",
   "execution_count": 3,
   "id": "145b9a8e-116e-4066-9833-1f4c53b999b1",
   "metadata": {},
   "outputs": [
    {
     "data": {
      "text/html": [
       "<iframe\n",
       "    scrolling=\"no\"\n",
       "    width=\"100%\"\n",
       "    height=\"620\"\n",
       "    src=\"iframe_figures/figure_3.html\"\n",
       "    frameborder=\"0\"\n",
       "    allowfullscreen\n",
       "></iframe>\n"
      ]
     },
     "metadata": {},
     "output_type": "display_data"
    }
   ],
   "source": [
    "pcmark.plot.frequency_line()"
   ]
  },
  {
   "cell_type": "code",
   "execution_count": null,
   "id": "3363cc52-3637-4d4f-ace6-0399eba68d4a",
   "metadata": {},
   "outputs": [],
   "source": [
    "pcmark.plot.frequency_bar()"
   ]
  },
  {
   "cell_type": "code",
   "execution_count": null,
   "id": "bbddf72e-05eb-42c8-b444-8c4603146186",
   "metadata": {},
   "outputs": [],
   "source": [
    "pcmark.plot.results_line(['PcmaWebV3Score', 'PcmaDataManipulationV3Score', 'PcmaVideoEditingV3Score', 'PcmaPhotoEditingV3Score', 'PcmaWritingV3Score', 'PcmaWorkv3Score'])"
   ]
  },
  {
   "cell_type": "code",
   "execution_count": 6,
   "id": "2429aaf3-d262-4947-a317-7dbf883058c2",
   "metadata": {},
   "outputs": [
    {
     "data": {
      "text/html": [
       "<iframe\n",
       "    scrolling=\"no\"\n",
       "    width=\"100%\"\n",
       "    height=\"1020\"\n",
       "    src=\"iframe_figures/figure_6.html\"\n",
       "    frameborder=\"0\"\n",
       "    allowfullscreen\n",
       "></iframe>\n"
      ]
     },
     "metadata": {},
     "output_type": "display_data"
    }
   ],
   "source": [
    "pcmark.plot.power_meter_line()"
   ]
  },
  {
   "cell_type": "code",
   "execution_count": 17,
   "id": "2c079877-7b39-41c7-b924-9a417f591eac",
   "metadata": {},
   "outputs": [
    {
     "name": "stdout",
     "output_type": "stream",
     "text": [
      "+------------+--------+----------------+-------+-----------+\n",
      "|  channel   | metric |      tag       | value | perc_diff |\n",
      "+------------+--------+----------------+-------+-----------+\n",
      "|    CPU     | gmean  | mainroomuclamp | 230.9 |   0.0%    |\n",
      "|  CPU-Big   | gmean  | mainroomuclamp | 89.1  |   0.0%    |\n",
      "| CPU-Little | gmean  | mainroomuclamp | 124.2 |   0.0%    |\n",
      "|  CPU-Mid   | gmean  | mainroomuclamp | 17.5  |   0.0%    |\n",
      "|    GPU     | gmean  | mainroomuclamp | 40.2  |   0.0%    |\n",
      "|   Total    | gmean  | mainroomuclamp | 271.1 |   0.0%    |\n",
      "|    CPU     | gmean  | sumroomdiv3.2  | 217.4 |  -5.85%   |\n",
      "|  CPU-Big   | gmean  | sumroomdiv3.2  | 72.7  |  -18.42%  |\n",
      "| CPU-Little | gmean  | sumroomdiv3.2  | 124.4 |   0.16%   |\n",
      "|  CPU-Mid   | gmean  | sumroomdiv3.2  | 20.3  |  15.73%   |\n",
      "|    GPU     | gmean  | sumroomdiv3.2  | 40.0  |  -0.51%   |\n",
      "|   Total    | gmean  | sumroomdiv3.2  | 257.4 |  -5.06%   |\n",
      "|    CPU     | gmean  |  sumroomdiv4   | 204.8 |  -11.3%   |\n",
      "|  CPU-Big   | gmean  |  sumroomdiv4   | 68.8  |  -22.75%  |\n",
      "| CPU-Little | gmean  |  sumroomdiv4   | 115.6 |  -6.91%   |\n",
      "|  CPU-Mid   | gmean  |  sumroomdiv4   | 20.3  |  15.93%   |\n",
      "|    GPU     | gmean  |  sumroomdiv4   | 40.0  |  -0.45%   |\n",
      "|   Total    | gmean  |  sumroomdiv4   | 244.8 |  -9.69%   |\n",
      "+------------+--------+----------------+-------+-----------+\n"
     ]
    },
    {
     "data": {
      "text/html": [
       "<iframe\n",
       "    scrolling=\"no\"\n",
       "    width=\"100%\"\n",
       "    height=\"620\"\n",
       "    src=\"iframe_figures/figure_17.html\"\n",
       "    frameborder=\"0\"\n",
       "    allowfullscreen\n",
       "></iframe>\n"
      ]
     },
     "metadata": {},
     "output_type": "display_data"
    }
   ],
   "source": [
    "pcmark.plot.power_meter_bar()"
   ]
  },
  {
   "cell_type": "code",
   "execution_count": 18,
   "id": "277055fc-f57f-41ad-b050-1b133c302832",
   "metadata": {},
   "outputs": [
    {
     "name": "stdout",
     "output_type": "stream",
     "text": [
      "+-----------------------------+----------------+--------+-----------+\n",
      "|           metric            |      tag       | value  | perc_diff |\n",
      "+-----------------------------+----------------+--------+-----------+\n",
      "| PcmaDataManipulationV3Score | mainroomuclamp | 11.22k |   0.0%    |\n",
      "| PcmaDataManipulationV3Score | sumroomdiv3.2  | 11.37k |   1.37%   |\n",
      "| PcmaDataManipulationV3Score |  sumroomdiv4   | 11.29k |   0.69%   |\n",
      "|   PcmaPhotoEditingV3Score   | mainroomuclamp | 13.65k |   0.0%    |\n",
      "|   PcmaPhotoEditingV3Score   | sumroomdiv3.2  | 14.01k |   2.59%   |\n",
      "|   PcmaPhotoEditingV3Score   |  sumroomdiv4   | 13.45k |  -1.48%   |\n",
      "|   PcmaVideoEditingV3Score   | mainroomuclamp | 6531.1 |   0.0%    |\n",
      "|   PcmaVideoEditingV3Score   | sumroomdiv3.2  | 6475.2 |  -0.86%   |\n",
      "|   PcmaVideoEditingV3Score   |  sumroomdiv4   | 6583.2 |   0.8%    |\n",
      "|       PcmaWebV3Score        | mainroomuclamp | 6078.1 |   0.0%    |\n",
      "|       PcmaWebV3Score        | sumroomdiv3.2  | 6323.8 |   4.04%   |\n",
      "|       PcmaWebV3Score        |  sumroomdiv4   | 5977.4 |  -1.66%   |\n",
      "|       PcmaWorkv3Score       | mainroomuclamp | 9601.0 |   0.0%    |\n",
      "|       PcmaWorkv3Score       | sumroomdiv3.2  | 9605.4 |   0.05%   |\n",
      "|       PcmaWorkv3Score       |  sumroomdiv4   | 9430.2 |  -1.78%   |\n",
      "|     PcmaWritingV3Score      | mainroomuclamp | 13.42k |   0.0%    |\n",
      "|     PcmaWritingV3Score      | sumroomdiv3.2  | 12.54k |  -6.57%   |\n",
      "|     PcmaWritingV3Score      |  sumroomdiv4   | 12.47k |  -7.03%   |\n",
      "+-----------------------------+----------------+--------+-----------+\n"
     ]
    },
    {
     "data": {
      "text/html": [
       "<iframe\n",
       "    scrolling=\"no\"\n",
       "    width=\"100%\"\n",
       "    height=\"620\"\n",
       "    src=\"iframe_figures/figure_18.html\"\n",
       "    frameborder=\"0\"\n",
       "    allowfullscreen\n",
       "></iframe>\n"
      ]
     },
     "metadata": {},
     "output_type": "display_data"
    }
   ],
   "source": [
    "pcmark.plot.results_bar(['PcmaWebV3Score', 'PcmaDataManipulationV3Score', 'PcmaVideoEditingV3Score', 'PcmaPhotoEditingV3Score', 'PcmaWritingV3Score', 'PcmaWorkv3Score'])"
   ]
  },
  {
   "cell_type": "code",
   "execution_count": null,
   "id": "f716b19c-0122-4bca-8021-82b64394be97",
   "metadata": {},
   "outputs": [],
   "source": [
    "pcmark.plot.wakeup_latency_bar()"
   ]
  },
  {
   "cell_type": "code",
   "execution_count": 10,
   "id": "a930385d-895e-44d4-a75d-4817d1aed2ba",
   "metadata": {},
   "outputs": [
    {
     "name": "stdout",
     "output_type": "stream",
     "text": [
      "+--------------+----------+--------+------------+------------+\n",
      "|    metric    |   tag    |  time  | total_time | percentage |\n",
      "+--------------+----------+--------+------------+------------+\n",
      "| overutilized | baseline | 61.27  |   466.19   |   13.14    |\n",
      "| overutilized |  sumagg  | 106.43 |   465.03   |   22.89    |\n",
      "+--------------+----------+--------+------------+------------+\n"
     ]
    },
    {
     "data": {
      "text/html": [
       "<iframe\n",
       "    scrolling=\"no\"\n",
       "    width=\"100%\"\n",
       "    height=\"620\"\n",
       "    src=\"iframe_figures/figure_10.html\"\n",
       "    frameborder=\"0\"\n",
       "    allowfullscreen\n",
       "></iframe>\n"
      ]
     },
     "metadata": {},
     "output_type": "display_data"
    }
   ],
   "source": [
    "pcmark.plot.overutilized_line()"
   ]
  },
  {
   "cell_type": "code",
   "execution_count": 12,
   "id": "aa86735e-6b15-466b-8be9-263bbaad6f5c",
   "metadata": {},
   "outputs": [
    {
     "name": "stdout",
     "output_type": "stream",
     "text": [
      "+-------------------+--------+----------+---------+-----------+\n",
      "|      cgroup       | metric |   tag    |  value  | perc_diff |\n",
      "+-------------------+--------+----------+---------+-----------+\n",
      "|    background     | gmean  | baseline | 110.21μ |   0.0%    |\n",
      "|    background     | gmean  |  sumagg  | 98.15μ  |  -10.95%  |\n",
      "|    foreground     | gmean  | baseline | 155.26μ |   0.0%    |\n",
      "|    foreground     | gmean  |  sumagg  | 119.4μ  |  -23.1%   |\n",
      "| system-background | gmean  | baseline | 81.51μ  |   0.0%    |\n",
      "| system-background | gmean  |  sumagg  | 76.29μ  |   -6.4%   |\n",
      "+-------------------+--------+----------+---------+-----------+\n"
     ]
    },
    {
     "data": {
      "text/html": [
       "<iframe\n",
       "    scrolling=\"no\"\n",
       "    width=\"100%\"\n",
       "    height=\"620\"\n",
       "    src=\"iframe_figures/figure_12.html\"\n",
       "    frameborder=\"0\"\n",
       "    allowfullscreen\n",
       "></iframe>\n"
      ]
     },
     "metadata": {},
     "output_type": "display_data"
    }
   ],
   "source": [
    "pcmark.plot.wakeup_latency_cgroup_bar()"
   ]
  },
  {
   "cell_type": "code",
   "execution_count": 15,
   "id": "b76ea7fa-ae8a-4b1d-8547-22411757ab3c",
   "metadata": {},
   "outputs": [],
   "source": [
    "pcmark.save_image_plots('/home/elitop01/uclamp_sum_agg/test_results/pcmark_sumagg_10_0910/plots_images')"
   ]
  },
  {
   "cell_type": "code",
   "execution_count": 15,
   "id": "2cf0a364-21c2-4226-ac87-e20383373f3d",
   "metadata": {},
   "outputs": [
    {
     "data": {
      "text/plain": [
       "0.9437062442332761"
      ]
     },
     "execution_count": 15,
     "metadata": {},
     "output_type": "execute_result"
    }
   ],
   "source": [
    "main_avg_time = 464.6188862000001\n",
    "sum_avg_time = 465.7076411\n",
    "0.9415 * sum_avg_time / main_avg_time"
   ]
  }
 ],
 "metadata": {
  "kernelspec": {
   "display_name": "Python 3 (ipykernel)",
   "language": "python",
   "name": "python3"
  },
  "language_info": {
   "codemirror_mode": {
    "name": "ipython",
    "version": 3
   },
   "file_extension": ".py",
   "mimetype": "text/x-python",
   "name": "python",
   "nbconvert_exporter": "python",
   "pygments_lexer": "ipython3",
   "version": "3.10.12"
  }
 },
 "nbformat": 4,
 "nbformat_minor": 5
}
