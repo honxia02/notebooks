{
 "cells": [
  {
   "cell_type": "markdown",
   "id": "ff00232a-a2be-48c0-8937-abe3a0e99418",
   "metadata": {},
   "source": [
    "# Setup"
   ]
  },
  {
   "cell_type": "code",
   "execution_count": null,
   "id": "ad47f8b7-f468-4484-b057-e056c7695185",
   "metadata": {
    "tags": []
   },
   "outputs": [],
   "source": [
    "# PLEASE READ:\n",
    "# This notebook here is mostly compiling the results AFTER the benchmarks are\n",
    "# done. If you use this notebook, please install LISA\n",
    "#     https://github.com/ARM-software/lisa\n",
    "# and then workload-processor\n",
    "#     https://github.com/mrkajetanp/workload-processor.git\n",
    "# first. After the installation, run this workload via:\n",
    "# $ workload-processor run $WORKLOAD_PROCESSOR_INSTALL_DIR/agendas/agenda_jankbench.yaml baseline\n",
    "# $ workload-processor run $WORKLOAD_PROCESSOR_INSTALL_DIR/agendas/agenda_jankbench.yaml test\n",
    "# This will give you two directories of\n",
    "#     jankbench_baseline_$RUNS_$DATE\n",
    "# and\n",
    "#     jankbench_test_$RUNS_$DATE\n",
    "# To obtain power consumption results on the two benchmark runs, do\n",
    "# $ workload-processor process jankbench_baseline_$RUNS_$DATE -m power\n",
    "# and then\n",
    "# $ workload-processor process jankbench_test_$RUNS_$DATE -m power\n",
    "#\n",
    "# Only after this should you start using this notebook. The reason is that\n",
    "# these benchmark runs generate a huge amount of traces. Running the benchmarks\n",
    "# inside this notebook can easily crash Jupyter completely."
   ]
  },
  {
   "cell_type": "code",
   "execution_count": null,
   "id": "d7a86da8-142a-4a76-ac19-4e330b60e5ce",
   "metadata": {
    "tags": []
   },
   "outputs": [],
   "source": [
    "import os\n",
    "import logging as log\n",
    "\n",
    "from lisa.utils import setup_logging\n",
    "setup_logging(level=log.ERROR)\n",
    "\n",
    "from lisa.trace import Trace\n",
    "from lisa.wa import WAOutput\n",
    "from lisa.stats import Stats\n",
    "from lisa.datautils import series_mean\n",
    "from pandas import DataFrame\n",
    "import pandas as pd\n",
    "import scipy as sp\n",
    "import numpy as np\n",
    "import plotly.express as px\n",
    "import plotly.io as pio\n",
    "import plotly.graph_objects as go\n",
    "import holoviews as hv\n",
    "from holoviews import opts\n",
    "from bokeh.themes import built_in_themes\n",
    "from tabulate import tabulate\n",
    "\n",
    "from holoviews.operation.datashader import datashade, rasterize\n",
    "from holoviews.operation import decimate\n",
    "\n",
    "from wp.notebook import WorkloadNotebookAnalysis, setup_notebook\n",
    "\n",
    "setup_notebook()"
   ]
  },
  {
   "cell_type": "markdown",
   "id": "41e20065-b59c-4d93-9fc2-d828c929f174",
   "metadata": {},
   "source": [
    "## Runs"
   ]
  },
  {
   "cell_type": "code",
   "execution_count": 26,
   "id": "9c0cdb1e-30a6-4f42-8510-b80b2b996e95",
   "metadata": {
    "tags": []
   },
   "outputs": [
    {
     "data": {
      "text/html": [
       "<div>\n",
       "<style scoped>\n",
       "    .dataframe tbody tr th:only-of-type {\n",
       "        vertical-align: middle;\n",
       "    }\n",
       "\n",
       "    .dataframe tbody tr th {\n",
       "        vertical-align: top;\n",
       "    }\n",
       "\n",
       "    .dataframe thead th {\n",
       "        text-align: right;\n",
       "    }\n",
       "</style>\n",
       "<table border=\"1\" class=\"dataframe\">\n",
       "  <thead>\n",
       "    <tr style=\"text-align: right;\">\n",
       "      <th></th>\n",
       "      <th>test_name</th>\n",
       "      <th>rep</th>\n",
       "      <th>metric</th>\n",
       "      <th>value</th>\n",
       "      <th>unit</th>\n",
       "      <th>iteration</th>\n",
       "      <th>workload</th>\n",
       "      <th>id</th>\n",
       "      <th>wa_path</th>\n",
       "      <th>kernel</th>\n",
       "      <th>tag</th>\n",
       "    </tr>\n",
       "  </thead>\n",
       "  <tbody>\n",
       "    <tr>\n",
       "      <th>0</th>\n",
       "      <td>Bitmap Upload Test</td>\n",
       "      <td>0.0</td>\n",
       "      <td>mean</td>\n",
       "      <td>17.929524</td>\n",
       "      <td></td>\n",
       "      <td>1</td>\n",
       "      <td>jankbench</td>\n",
       "      <td>wk1</td>\n",
       "      <td>jankbench_mainroom_10_1210</td>\n",
       "      <td>5.18.0-armpower-00029-gc35255a0e739</td>\n",
       "      <td>mainroom</td>\n",
       "    </tr>\n",
       "    <tr>\n",
       "      <th>1</th>\n",
       "      <td>Bitmap Upload Test</td>\n",
       "      <td>0.0</td>\n",
       "      <td>std_dev</td>\n",
       "      <td>2.339543</td>\n",
       "      <td></td>\n",
       "      <td>1</td>\n",
       "      <td>jankbench</td>\n",
       "      <td>wk1</td>\n",
       "      <td>jankbench_mainroom_10_1210</td>\n",
       "      <td>5.18.0-armpower-00029-gc35255a0e739</td>\n",
       "      <td>mainroom</td>\n",
       "    </tr>\n",
       "    <tr>\n",
       "      <th>2</th>\n",
       "      <td>Bitmap Upload Test</td>\n",
       "      <td>0.0</td>\n",
       "      <td>count_jank</td>\n",
       "      <td>19.000000</td>\n",
       "      <td></td>\n",
       "      <td>1</td>\n",
       "      <td>jankbench</td>\n",
       "      <td>wk1</td>\n",
       "      <td>jankbench_mainroom_10_1210</td>\n",
       "      <td>5.18.0-armpower-00029-gc35255a0e739</td>\n",
       "      <td>mainroom</td>\n",
       "    </tr>\n",
       "    <tr>\n",
       "      <th>3</th>\n",
       "      <td>Bitmap Upload Test</td>\n",
       "      <td>0.0</td>\n",
       "      <td>jank_p</td>\n",
       "      <td>0.691916</td>\n",
       "      <td></td>\n",
       "      <td>1</td>\n",
       "      <td>jankbench</td>\n",
       "      <td>wk1</td>\n",
       "      <td>jankbench_mainroom_10_1210</td>\n",
       "      <td>5.18.0-armpower-00029-gc35255a0e739</td>\n",
       "      <td>mainroom</td>\n",
       "    </tr>\n",
       "    <tr>\n",
       "      <th>4</th>\n",
       "      <td>Edit Text Input</td>\n",
       "      <td>0.0</td>\n",
       "      <td>mean</td>\n",
       "      <td>6.304410</td>\n",
       "      <td></td>\n",
       "      <td>1</td>\n",
       "      <td>jankbench</td>\n",
       "      <td>wk1</td>\n",
       "      <td>jankbench_mainroom_10_1210</td>\n",
       "      <td>5.18.0-armpower-00029-gc35255a0e739</td>\n",
       "      <td>mainroom</td>\n",
       "    </tr>\n",
       "    <tr>\n",
       "      <th>...</th>\n",
       "      <td>...</td>\n",
       "      <td>...</td>\n",
       "      <td>...</td>\n",
       "      <td>...</td>\n",
       "      <td>...</td>\n",
       "      <td>...</td>\n",
       "      <td>...</td>\n",
       "      <td>...</td>\n",
       "      <td>...</td>\n",
       "      <td>...</td>\n",
       "      <td>...</td>\n",
       "    </tr>\n",
       "    <tr>\n",
       "      <th>635</th>\n",
       "      <td>Overdraw Test</td>\n",
       "      <td>0.0</td>\n",
       "      <td>jank_p</td>\n",
       "      <td>0.036643</td>\n",
       "      <td></td>\n",
       "      <td>10</td>\n",
       "      <td>jankbench</td>\n",
       "      <td>wk1</td>\n",
       "      <td>jankbench_sumroom60_10_1210</td>\n",
       "      <td>5.18.0-armpower-00037-gfdf7806135b3</td>\n",
       "      <td>sumroom60</td>\n",
       "    </tr>\n",
       "    <tr>\n",
       "      <th>636</th>\n",
       "      <td>Shadow Grid Fling</td>\n",
       "      <td>0.0</td>\n",
       "      <td>mean</td>\n",
       "      <td>7.305272</td>\n",
       "      <td></td>\n",
       "      <td>10</td>\n",
       "      <td>jankbench</td>\n",
       "      <td>wk1</td>\n",
       "      <td>jankbench_sumroom60_10_1210</td>\n",
       "      <td>5.18.0-armpower-00037-gfdf7806135b3</td>\n",
       "      <td>sumroom60</td>\n",
       "    </tr>\n",
       "    <tr>\n",
       "      <th>637</th>\n",
       "      <td>Shadow Grid Fling</td>\n",
       "      <td>0.0</td>\n",
       "      <td>std_dev</td>\n",
       "      <td>3.306291</td>\n",
       "      <td></td>\n",
       "      <td>10</td>\n",
       "      <td>jankbench</td>\n",
       "      <td>wk1</td>\n",
       "      <td>jankbench_sumroom60_10_1210</td>\n",
       "      <td>5.18.0-armpower-00037-gfdf7806135b3</td>\n",
       "      <td>sumroom60</td>\n",
       "    </tr>\n",
       "    <tr>\n",
       "      <th>638</th>\n",
       "      <td>Shadow Grid Fling</td>\n",
       "      <td>0.0</td>\n",
       "      <td>count_jank</td>\n",
       "      <td>3.000000</td>\n",
       "      <td></td>\n",
       "      <td>10</td>\n",
       "      <td>jankbench</td>\n",
       "      <td>wk1</td>\n",
       "      <td>jankbench_sumroom60_10_1210</td>\n",
       "      <td>5.18.0-armpower-00037-gfdf7806135b3</td>\n",
       "      <td>sumroom60</td>\n",
       "    </tr>\n",
       "    <tr>\n",
       "      <th>639</th>\n",
       "      <td>Shadow Grid Fling</td>\n",
       "      <td>0.0</td>\n",
       "      <td>jank_p</td>\n",
       "      <td>0.135931</td>\n",
       "      <td></td>\n",
       "      <td>10</td>\n",
       "      <td>jankbench</td>\n",
       "      <td>wk1</td>\n",
       "      <td>jankbench_sumroom60_10_1210</td>\n",
       "      <td>5.18.0-armpower-00037-gfdf7806135b3</td>\n",
       "      <td>sumroom60</td>\n",
       "    </tr>\n",
       "  </tbody>\n",
       "</table>\n",
       "<p>640 rows × 11 columns</p>\n",
       "</div>"
      ],
      "text/plain": [
       "              test_name  rep      metric      value unit  iteration  \\\n",
       "0    Bitmap Upload Test  0.0        mean  17.929524               1   \n",
       "1    Bitmap Upload Test  0.0     std_dev   2.339543               1   \n",
       "2    Bitmap Upload Test  0.0  count_jank  19.000000               1   \n",
       "3    Bitmap Upload Test  0.0      jank_p   0.691916               1   \n",
       "4       Edit Text Input  0.0        mean   6.304410               1   \n",
       "..                  ...  ...         ...        ...  ...        ...   \n",
       "635       Overdraw Test  0.0      jank_p   0.036643              10   \n",
       "636   Shadow Grid Fling  0.0        mean   7.305272              10   \n",
       "637   Shadow Grid Fling  0.0     std_dev   3.306291              10   \n",
       "638   Shadow Grid Fling  0.0  count_jank   3.000000              10   \n",
       "639   Shadow Grid Fling  0.0      jank_p   0.135931              10   \n",
       "\n",
       "      workload   id                      wa_path  \\\n",
       "0    jankbench  wk1   jankbench_mainroom_10_1210   \n",
       "1    jankbench  wk1   jankbench_mainroom_10_1210   \n",
       "2    jankbench  wk1   jankbench_mainroom_10_1210   \n",
       "3    jankbench  wk1   jankbench_mainroom_10_1210   \n",
       "4    jankbench  wk1   jankbench_mainroom_10_1210   \n",
       "..         ...  ...                          ...   \n",
       "635  jankbench  wk1  jankbench_sumroom60_10_1210   \n",
       "636  jankbench  wk1  jankbench_sumroom60_10_1210   \n",
       "637  jankbench  wk1  jankbench_sumroom60_10_1210   \n",
       "638  jankbench  wk1  jankbench_sumroom60_10_1210   \n",
       "639  jankbench  wk1  jankbench_sumroom60_10_1210   \n",
       "\n",
       "                                  kernel        tag  \n",
       "0    5.18.0-armpower-00029-gc35255a0e739   mainroom  \n",
       "1    5.18.0-armpower-00029-gc35255a0e739   mainroom  \n",
       "2    5.18.0-armpower-00029-gc35255a0e739   mainroom  \n",
       "3    5.18.0-armpower-00029-gc35255a0e739   mainroom  \n",
       "4    5.18.0-armpower-00029-gc35255a0e739   mainroom  \n",
       "..                                   ...        ...  \n",
       "635  5.18.0-armpower-00037-gfdf7806135b3  sumroom60  \n",
       "636  5.18.0-armpower-00037-gfdf7806135b3  sumroom60  \n",
       "637  5.18.0-armpower-00037-gfdf7806135b3  sumroom60  \n",
       "638  5.18.0-armpower-00037-gfdf7806135b3  sumroom60  \n",
       "639  5.18.0-armpower-00037-gfdf7806135b3  sumroom60  \n",
       "\n",
       "[640 rows x 11 columns]"
      ]
     },
     "metadata": {},
     "output_type": "display_data"
    },
    {
     "name": "stdout",
     "output_type": "stream",
     "text": [
      "benchmark_dirs: ['jankbench_mainroom_10_1210', 'jankbench_sumroom60_10_1210']\n",
      "tags: ['mainroom', 'sumroom60']\n",
      "kernels: ['5.18.0-armpower-00029-gc35255a0e739', '5.18.0-armpower-00037-gfdf7806135b3']\n"
     ]
    }
   ],
   "source": [
    "jank = WorkloadNotebookAnalysis('/data_sda/honxia02/lisa/', ['jankbench_mainroom_10_1210', 'jankbench_sumroom60_10_1210'])\n",
    "jank.show()"
   ]
  },
  {
   "cell_type": "markdown",
   "id": "f367aadf-d0db-46a7-a147-246d17358d65",
   "metadata": {},
   "source": [
    "# Benchmark scores"
   ]
  },
  {
   "cell_type": "code",
   "execution_count": 27,
   "id": "bb4cd065-93f6-4a0a-afc0-a8896c38712f",
   "metadata": {
    "tags": []
   },
   "outputs": [
    {
     "data": {},
     "metadata": {},
     "output_type": "display_data"
    },
    {
     "data": {
      "application/vnd.holoviews_exec.v0+json": "",
      "text/html": [
       "<div id='5e34a18e-7d28-4f40-9fb7-485460a02bd5'>\n",
       "  <div id=\"b3292b51-0a31-475a-9726-a5647d69c6b6\" data-root-id=\"5e34a18e-7d28-4f40-9fb7-485460a02bd5\" style=\"display: contents;\"></div>\n",
       "</div>\n",
       "<script type=\"application/javascript\">(function(root) {\n",
       "  var docs_json = {\"d1cc64e6-44cd-4959-93ea-34abcdf4c8a2\":{\"version\":\"3.2.2\",\"title\":\"Bokeh Application\",\"roots\":[{\"type\":\"object\",\"name\":\"Row\",\"id\":\"5e34a18e-7d28-4f40-9fb7-485460a02bd5\",\"attributes\":{\"name\":\"Row02842\",\"tags\":[\"embedded\"],\"stylesheets\":[\"\\n:host(.pn-loading.pn-arc):before, .pn-loading.pn-arc:before {\\n  background-image: url(\\\"data:image/svg+xml;base64,PHN2ZyB4bWxucz0iaHR0cDovL3d3dy53My5vcmcvMjAwMC9zdmciIHN0eWxlPSJtYXJnaW46IGF1dG87IGJhY2tncm91bmQ6IG5vbmU7IGRpc3BsYXk6IGJsb2NrOyBzaGFwZS1yZW5kZXJpbmc6IGF1dG87IiB2aWV3Qm94PSIwIDAgMTAwIDEwMCIgcHJlc2VydmVBc3BlY3RSYXRpbz0ieE1pZFlNaWQiPiAgPGNpcmNsZSBjeD0iNTAiIGN5PSI1MCIgZmlsbD0ibm9uZSIgc3Ryb2tlPSIjYzNjM2MzIiBzdHJva2Utd2lkdGg9IjEwIiByPSIzNSIgc3Ryb2tlLWRhc2hhcnJheT0iMTY0LjkzMzYxNDMxMzQ2NDE1IDU2Ljk3Nzg3MTQzNzgyMTM4Ij4gICAgPGFuaW1hdGVUcmFuc2Zvcm0gYXR0cmlidXRlTmFtZT0idHJhbnNmb3JtIiB0eXBlPSJyb3RhdGUiIHJlcGVhdENvdW50PSJpbmRlZmluaXRlIiBkdXI9IjFzIiB2YWx1ZXM9IjAgNTAgNTA7MzYwIDUwIDUwIiBrZXlUaW1lcz0iMDsxIj48L2FuaW1hdGVUcmFuc2Zvcm0+ICA8L2NpcmNsZT48L3N2Zz4=\\\");\\n  background-size: auto calc(min(50%, 400px));\\n}\",{\"type\":\"object\",\"name\":\"ImportedStyleSheet\",\"id\":\"1036e97e-c3ac-4d13-a213-dc465ee24605\",\"attributes\":{\"url\":\"https://cdn.holoviz.org/panel/1.2.3/dist/css/loading.css\"}},{\"type\":\"object\",\"name\":\"ImportedStyleSheet\",\"id\":\"1cd1ff9a-8696-41b1-aec2-3459a970b12f\",\"attributes\":{\"url\":\"https://cdn.holoviz.org/panel/1.2.3/dist/css/listpanel.css\"}},{\"type\":\"object\",\"name\":\"ImportedStyleSheet\",\"id\":\"5c4f0450-1bbd-439e-898e-3f71b5511c30\",\"attributes\":{\"url\":\"https://cdn.holoviz.org/panel/1.2.3/dist/bundled/theme/default.css\"}},{\"type\":\"object\",\"name\":\"ImportedStyleSheet\",\"id\":\"9da4272a-6d75-41bc-9a0f-14938cc9fd27\",\"attributes\":{\"url\":\"https://cdn.holoviz.org/panel/1.2.3/dist/bundled/theme/native.css\"}}],\"min_width\":1500,\"margin\":0,\"sizing_mode\":\"stretch_width\",\"align\":\"start\",\"children\":[{\"type\":\"object\",\"name\":\"Spacer\",\"id\":\"7ed8c805-7508-4f73-9f1e-a71af57c2350\",\"attributes\":{\"name\":\"HSpacer02853\",\"stylesheets\":[\"\\n:host(.pn-loading.pn-arc):before, .pn-loading.pn-arc:before {\\n  background-image: url(\\\"data:image/svg+xml;base64,PHN2ZyB4bWxucz0iaHR0cDovL3d3dy53My5vcmcvMjAwMC9zdmciIHN0eWxlPSJtYXJnaW46IGF1dG87IGJhY2tncm91bmQ6IG5vbmU7IGRpc3BsYXk6IGJsb2NrOyBzaGFwZS1yZW5kZXJpbmc6IGF1dG87IiB2aWV3Qm94PSIwIDAgMTAwIDEwMCIgcHJlc2VydmVBc3BlY3RSYXRpbz0ieE1pZFlNaWQiPiAgPGNpcmNsZSBjeD0iNTAiIGN5PSI1MCIgZmlsbD0ibm9uZSIgc3Ryb2tlPSIjYzNjM2MzIiBzdHJva2Utd2lkdGg9IjEwIiByPSIzNSIgc3Ryb2tlLWRhc2hhcnJheT0iMTY0LjkzMzYxNDMxMzQ2NDE1IDU2Ljk3Nzg3MTQzNzgyMTM4Ij4gICAgPGFuaW1hdGVUcmFuc2Zvcm0gYXR0cmlidXRlTmFtZT0idHJhbnNmb3JtIiB0eXBlPSJyb3RhdGUiIHJlcGVhdENvdW50PSJpbmRlZmluaXRlIiBkdXI9IjFzIiB2YWx1ZXM9IjAgNTAgNTA7MzYwIDUwIDUwIiBrZXlUaW1lcz0iMDsxIj48L2FuaW1hdGVUcmFuc2Zvcm0+ICA8L2NpcmNsZT48L3N2Zz4=\\\");\\n  background-size: auto calc(min(50%, 400px));\\n}\",{\"id\":\"1036e97e-c3ac-4d13-a213-dc465ee24605\"},{\"id\":\"5c4f0450-1bbd-439e-898e-3f71b5511c30\"},{\"id\":\"9da4272a-6d75-41bc-9a0f-14938cc9fd27\"}],\"margin\":0,\"sizing_mode\":\"stretch_width\",\"align\":\"start\"}},{\"type\":\"object\",\"name\":\"Figure\",\"id\":\"e6bd5372-5365-4fdf-8f42-7f3a1f828057\",\"attributes\":{\"width\":1500,\"margin\":[5,10],\"sizing_mode\":\"fixed\",\"align\":\"start\",\"x_range\":{\"type\":\"object\",\"name\":\"Range1d\",\"id\":\"ab3726bd-80c7-4ac0-a030-51952ff69496\",\"attributes\":{\"tags\":[[[\"iteration\",\"iteration\",null]],[]],\"start\":1.0,\"end\":10.0,\"reset_start\":1.0,\"reset_end\":10.0}},\"y_range\":{\"type\":\"object\",\"name\":\"Range1d\",\"id\":\"df11fe70-6e2d-4c0d-9fdf-b54696301abb\",\"attributes\":{\"tags\":[[[\"perc\",\"perc\",null]],{\"type\":\"map\",\"entries\":[[\"invert_yaxis\",false],[\"autorange\",false]]}],\"start\":0.00799999999999998,\"end\":1.4720000000000002,\"reset_start\":0.00799999999999998,\"reset_end\":1.4720000000000002}},\"x_scale\":{\"type\":\"object\",\"name\":\"LinearScale\",\"id\":\"91d81b24-ba83-46aa-8f51-81ae1df1d313\"},\"y_scale\":{\"type\":\"object\",\"name\":\"LinearScale\",\"id\":\"6ffcd816-396c-4daf-a35d-ea49bc87c53c\"},\"title\":{\"type\":\"object\",\"name\":\"Title\",\"id\":\"74ad743a-0e2e-4982-a477-b7d9b06ad6ad\",\"attributes\":{\"text\":\"Jankbench - jank percentage per-iteration\",\"text_color\":\"#E0E0E0\",\"text_font\":\"Helvetica\",\"text_font_size\":\"1.15em\"}},\"outline_line_color\":\"#E0E0E0\",\"outline_line_alpha\":0.25,\"renderers\":[{\"type\":\"object\",\"name\":\"GlyphRenderer\",\"id\":\"3f6d4adc-beaf-4b13-a058-6a1125496452\",\"attributes\":{\"name\":\"mainroom\",\"data_source\":{\"type\":\"object\",\"name\":\"ColumnDataSource\",\"id\":\"01b73e13-24cb-4c0c-a844-49df7268ce72\",\"attributes\":{\"selected\":{\"type\":\"object\",\"name\":\"Selection\",\"id\":\"34f1e384-cf22-4f07-a032-34aad612eed4\",\"attributes\":{\"indices\":[],\"line_indices\":[]}},\"selection_policy\":{\"type\":\"object\",\"name\":\"UnionRenderers\",\"id\":\"76ad9c37-b24d-42c0-8b34-28bfb7df9130\"},\"data\":{\"type\":\"map\",\"entries\":[[\"iteration\",{\"type\":\"ndarray\",\"array\":{\"type\":\"bytes\",\"data\":\"AQAAAAIAAAADAAAABAAAAAUAAAAGAAAABwAAAAgAAAAJAAAACgAAAA==\"},\"shape\":[10],\"dtype\":\"int32\",\"order\":\"little\"}],[\"perc\",{\"type\":\"ndarray\",\"array\":{\"type\":\"bytes\",\"data\":\"XI/C9Shc8z+kcD0K16PoP3E9CtejcPE/SOF6FK5H4T89CtejcD3iPx+F61G4HuU/MzMzMzMz4z+amZmZmZn1PzMzMzMzM+M/uB6F61G45j8=\"},\"shape\":[10],\"dtype\":\"float64\",\"order\":\"little\"}],[\"tag\",[\"mainroom\",\"mainroom\",\"mainroom\",\"mainroom\",\"mainroom\",\"mainroom\",\"mainroom\",\"mainroom\",\"mainroom\",\"mainroom\"]]]}}},\"view\":{\"type\":\"object\",\"name\":\"CDSView\",\"id\":\"299e8d6f-109a-4666-bafc-df5c69e2e38b\",\"attributes\":{\"filter\":{\"type\":\"object\",\"name\":\"AllIndices\",\"id\":\"7311aeb1-09cc-41d6-8d36-216dcdbf3dd8\"}}},\"glyph\":{\"type\":\"object\",\"name\":\"Line\",\"id\":\"fae46251-a5fc-4ac7-be00-84ca4a2e356c\",\"attributes\":{\"tags\":[\"apply_ranges\"],\"x\":{\"type\":\"field\",\"field\":\"iteration\"},\"y\":{\"type\":\"field\",\"field\":\"perc\"},\"line_color\":\"#636EFA\",\"line_width\":2}},\"selection_glyph\":{\"type\":\"object\",\"name\":\"Line\",\"id\":\"39b1fc6e-2adb-453a-b4f6-8362cbfec34f\",\"attributes\":{\"tags\":[\"apply_ranges\"],\"x\":{\"type\":\"field\",\"field\":\"iteration\"},\"y\":{\"type\":\"field\",\"field\":\"perc\"},\"line_color\":\"#636EFA\",\"line_width\":2}},\"nonselection_glyph\":{\"type\":\"object\",\"name\":\"Line\",\"id\":\"9ff0cfcc-0780-4f90-a52b-aa50d682b269\",\"attributes\":{\"tags\":[\"apply_ranges\"],\"x\":{\"type\":\"field\",\"field\":\"iteration\"},\"y\":{\"type\":\"field\",\"field\":\"perc\"},\"line_color\":\"#636EFA\",\"line_alpha\":0.1,\"line_width\":2}},\"muted_glyph\":{\"type\":\"object\",\"name\":\"Line\",\"id\":\"86fc917f-19b3-4683-8bd9-941278d8486d\",\"attributes\":{\"tags\":[\"apply_ranges\"],\"x\":{\"type\":\"field\",\"field\":\"iteration\"},\"y\":{\"type\":\"field\",\"field\":\"perc\"},\"line_color\":\"#636EFA\",\"line_alpha\":0,\"line_width\":2}}}},{\"type\":\"object\",\"name\":\"GlyphRenderer\",\"id\":\"a40d0d58-2ced-4876-b0dd-3dfbe22e65a3\",\"attributes\":{\"name\":\"sumroom60\",\"data_source\":{\"type\":\"object\",\"name\":\"ColumnDataSource\",\"id\":\"9a28bacb-2b19-4a0c-bb07-2b6e7dd85be9\",\"attributes\":{\"selected\":{\"type\":\"object\",\"name\":\"Selection\",\"id\":\"872fd1a0-5bb9-4dd5-8ff2-50991f7c7862\",\"attributes\":{\"indices\":[],\"line_indices\":[]}},\"selection_policy\":{\"type\":\"object\",\"name\":\"UnionRenderers\",\"id\":\"066f9cac-2811-4077-90a8-f8e6dfe496d2\"},\"data\":{\"type\":\"map\",\"entries\":[[\"iteration\",{\"type\":\"ndarray\",\"array\":{\"type\":\"bytes\",\"data\":\"AQAAAAIAAAADAAAABAAAAAUAAAAGAAAABwAAAAgAAAAJAAAACgAAAA==\"},\"shape\":[10],\"dtype\":\"int32\",\"order\":\"little\"}],[\"perc\",{\"type\":\"ndarray\",\"array\":{\"type\":\"bytes\",\"data\":\"mpmZmZmZyT9SuB6F61HIP+xRuB6F68E/CtejcD0Kxz9SuB6F61HIPwrXo3A9Csc/w/UoXI/CxT/sUbgehevBP6RwPQrXo8A/7FG4HoXr4T8=\"},\"shape\":[10],\"dtype\":\"float64\",\"order\":\"little\"}],[\"tag\",[\"sumroom60\",\"sumroom60\",\"sumroom60\",\"sumroom60\",\"sumroom60\",\"sumroom60\",\"sumroom60\",\"sumroom60\",\"sumroom60\",\"sumroom60\"]]]}}},\"view\":{\"type\":\"object\",\"name\":\"CDSView\",\"id\":\"cdd60e5f-9740-48be-923f-5c4ca0dd7b7a\",\"attributes\":{\"filter\":{\"type\":\"object\",\"name\":\"AllIndices\",\"id\":\"61734788-98ba-4c68-9cd6-db70d4d8fdcb\"}}},\"glyph\":{\"type\":\"object\",\"name\":\"Line\",\"id\":\"1799feb5-1301-440d-ad95-cdda30d0a18a\",\"attributes\":{\"tags\":[\"apply_ranges\"],\"x\":{\"type\":\"field\",\"field\":\"iteration\"},\"y\":{\"type\":\"field\",\"field\":\"perc\"},\"line_color\":\"#EF553B\",\"line_width\":2}},\"selection_glyph\":{\"type\":\"object\",\"name\":\"Line\",\"id\":\"b38757e4-aa21-468b-acf9-ec93d59a1749\",\"attributes\":{\"tags\":[\"apply_ranges\"],\"x\":{\"type\":\"field\",\"field\":\"iteration\"},\"y\":{\"type\":\"field\",\"field\":\"perc\"},\"line_color\":\"#EF553B\",\"line_width\":2}},\"nonselection_glyph\":{\"type\":\"object\",\"name\":\"Line\",\"id\":\"218ebb82-60e7-4c13-abb0-27a2e8f21847\",\"attributes\":{\"tags\":[\"apply_ranges\"],\"x\":{\"type\":\"field\",\"field\":\"iteration\"},\"y\":{\"type\":\"field\",\"field\":\"perc\"},\"line_color\":\"#EF553B\",\"line_alpha\":0.1,\"line_width\":2}},\"muted_glyph\":{\"type\":\"object\",\"name\":\"Line\",\"id\":\"22a05378-65de-41c0-98ba-d8bfd37d4c45\",\"attributes\":{\"tags\":[\"apply_ranges\"],\"x\":{\"type\":\"field\",\"field\":\"iteration\"},\"y\":{\"type\":\"field\",\"field\":\"perc\"},\"line_color\":\"#EF553B\",\"line_alpha\":0,\"line_width\":2}}}}],\"toolbar\":{\"type\":\"object\",\"name\":\"Toolbar\",\"id\":\"ce7a7e19-f862-4d44-b9bf-29515e94278f\",\"attributes\":{\"tools\":[{\"type\":\"object\",\"name\":\"WheelZoomTool\",\"id\":\"1647ba59-675c-43d5-8670-f1e5d1701103\",\"attributes\":{\"tags\":[\"hv_created\"],\"zoom_together\":\"none\"}},{\"type\":\"object\",\"name\":\"HoverTool\",\"id\":\"19153011-68a4-4480-9509-4fc697705bdb\",\"attributes\":{\"tags\":[\"hv_created\"],\"renderers\":[{\"id\":\"3f6d4adc-beaf-4b13-a058-6a1125496452\"},{\"id\":\"a40d0d58-2ced-4876-b0dd-3dfbe22e65a3\"}],\"tooltips\":[[\"tag\",\"@{tag}\"],[\"iteration\",\"@{iteration}\"],[\"perc\",\"@{perc}\"]]}},{\"type\":\"object\",\"name\":\"SaveTool\",\"id\":\"e341ea74-8b5b-4a79-b200-2edebcf96851\"},{\"type\":\"object\",\"name\":\"PanTool\",\"id\":\"2b312d05-5a6b-41bb-9918-fefb151f751a\"},{\"type\":\"object\",\"name\":\"BoxZoomTool\",\"id\":\"5e554fc8-63c3-44dd-9d12-0b96ad57718d\",\"attributes\":{\"overlay\":{\"type\":\"object\",\"name\":\"BoxAnnotation\",\"id\":\"09d11394-e422-4012-8ac7-4b35e264a3ab\",\"attributes\":{\"syncable\":false,\"level\":\"overlay\",\"visible\":false,\"left_units\":\"canvas\",\"right_units\":\"canvas\",\"bottom_units\":\"canvas\",\"top_units\":\"canvas\",\"line_color\":\"black\",\"line_alpha\":1.0,\"line_width\":2,\"line_dash\":[4,4],\"fill_color\":\"lightgrey\",\"fill_alpha\":0.5}}}},{\"type\":\"object\",\"name\":\"ResetTool\",\"id\":\"a3b19b5f-fc46-44e5-ac66-06460a3f5d79\"}],\"active_drag\":{\"id\":\"2b312d05-5a6b-41bb-9918-fefb151f751a\"},\"active_scroll\":{\"id\":\"1647ba59-675c-43d5-8670-f1e5d1701103\"}}},\"left\":[{\"type\":\"object\",\"name\":\"LinearAxis\",\"id\":\"dc889435-cd57-41bb-bd92-2db33fecfb9f\",\"attributes\":{\"ticker\":{\"type\":\"object\",\"name\":\"BasicTicker\",\"id\":\"16749f83-cc1f-4980-b8b2-8e8fc284cec7\",\"attributes\":{\"mantissas\":[1,2,5]}},\"formatter\":{\"type\":\"object\",\"name\":\"BasicTickFormatter\",\"id\":\"d6d581e7-ebcf-46fc-b51d-531ff6d20283\"},\"axis_label\":\"perc\",\"axis_label_standoff\":10,\"axis_label_text_color\":\"#E0E0E0\",\"axis_label_text_font\":\"Helvetica\",\"axis_label_text_font_size\":\"1.25em\",\"axis_label_text_font_style\":\"normal\",\"major_label_policy\":{\"type\":\"object\",\"name\":\"AllLabels\",\"id\":\"b8e1c39f-a9d4-4982-8335-c0d0b37690ce\"},\"major_label_text_color\":\"#E0E0E0\",\"major_label_text_font\":\"Helvetica\",\"major_label_text_font_size\":\"1.025em\",\"axis_line_color\":\"#E0E0E0\",\"axis_line_alpha\":0,\"major_tick_line_color\":\"#E0E0E0\",\"major_tick_line_alpha\":0,\"minor_tick_line_color\":\"#E0E0E0\",\"minor_tick_line_alpha\":0}}],\"below\":[{\"type\":\"object\",\"name\":\"LinearAxis\",\"id\":\"17d905fd-8fc9-4cd7-b1a5-411fafe60422\",\"attributes\":{\"ticker\":{\"type\":\"object\",\"name\":\"BasicTicker\",\"id\":\"6b2f3b72-382b-436d-b9f6-9fe0034ad6dd\",\"attributes\":{\"mantissas\":[1,2,5]}},\"formatter\":{\"type\":\"object\",\"name\":\"BasicTickFormatter\",\"id\":\"3a4e16cc-7bcf-48d9-a31c-67d1958507ee\"},\"axis_label\":\"iteration\",\"axis_label_standoff\":10,\"axis_label_text_color\":\"#E0E0E0\",\"axis_label_text_font\":\"Helvetica\",\"axis_label_text_font_size\":\"1.25em\",\"axis_label_text_font_style\":\"normal\",\"major_label_policy\":{\"type\":\"object\",\"name\":\"AllLabels\",\"id\":\"ab6bd98c-2272-40b7-81a3-db91a39ab51a\"},\"major_label_text_color\":\"#E0E0E0\",\"major_label_text_font\":\"Helvetica\",\"major_label_text_font_size\":\"1.025em\",\"axis_line_color\":\"#E0E0E0\",\"axis_line_alpha\":0,\"major_tick_line_color\":\"#E0E0E0\",\"major_tick_line_alpha\":0,\"minor_tick_line_color\":\"#E0E0E0\",\"minor_tick_line_alpha\":0}},{\"type\":\"object\",\"name\":\"Legend\",\"id\":\"a3907bb3-bac6-4c92-8650-0986724ed338\",\"attributes\":{\"location\":[0,0],\"orientation\":\"horizontal\",\"title\":\"tag\",\"border_line_alpha\":0,\"background_fill_color\":\"#20262B\",\"background_fill_alpha\":0.25,\"click_policy\":\"mute\",\"label_text_color\":\"#E0E0E0\",\"label_text_font\":\"Helvetica\",\"label_text_font_size\":\"1.025em\",\"label_standoff\":8,\"glyph_width\":15,\"spacing\":8,\"items\":[{\"type\":\"object\",\"name\":\"LegendItem\",\"id\":\"e618aad9-565f-4267-b723-ba5b528a6ea9\",\"attributes\":{\"label\":{\"type\":\"value\",\"value\":\"mainroom\"},\"renderers\":[{\"id\":\"3f6d4adc-beaf-4b13-a058-6a1125496452\"}]}},{\"type\":\"object\",\"name\":\"LegendItem\",\"id\":\"49a0359e-b2a0-4586-bca8-0b3a2b5bc0d4\",\"attributes\":{\"label\":{\"type\":\"value\",\"value\":\"sumroom60\"},\"renderers\":[{\"id\":\"a40d0d58-2ced-4876-b0dd-3dfbe22e65a3\"}]}}]}}],\"center\":[{\"type\":\"object\",\"name\":\"Grid\",\"id\":\"4f57cc36-f36a-4d70-ad6a-2b7fd8c893b2\",\"attributes\":{\"axis\":{\"id\":\"17d905fd-8fc9-4cd7-b1a5-411fafe60422\"},\"ticker\":{\"id\":\"6b2f3b72-382b-436d-b9f6-9fe0034ad6dd\"},\"grid_line_color\":\"#E0E0E0\",\"grid_line_alpha\":0.25}},{\"type\":\"object\",\"name\":\"Grid\",\"id\":\"690ab7b8-930b-4809-a987-1f1142d12e15\",\"attributes\":{\"dimension\":1,\"axis\":{\"id\":\"dc889435-cd57-41bb-bd92-2db33fecfb9f\"},\"ticker\":{\"id\":\"16749f83-cc1f-4980-b8b2-8e8fc284cec7\"},\"grid_line_color\":\"#E0E0E0\",\"grid_line_alpha\":0.25}}],\"background_fill_color\":\"#2b3035\",\"border_fill_color\":\"#212529\",\"min_border_top\":10,\"min_border_bottom\":10,\"min_border_left\":10,\"min_border_right\":10,\"output_backend\":\"webgl\"}},{\"type\":\"object\",\"name\":\"Spacer\",\"id\":\"c4b60bc1-c5b8-4f1c-a8a5-24d5e8f98eaa\",\"attributes\":{\"name\":\"HSpacer02856\",\"stylesheets\":[\"\\n:host(.pn-loading.pn-arc):before, .pn-loading.pn-arc:before {\\n  background-image: url(\\\"data:image/svg+xml;base64,PHN2ZyB4bWxucz0iaHR0cDovL3d3dy53My5vcmcvMjAwMC9zdmciIHN0eWxlPSJtYXJnaW46IGF1dG87IGJhY2tncm91bmQ6IG5vbmU7IGRpc3BsYXk6IGJsb2NrOyBzaGFwZS1yZW5kZXJpbmc6IGF1dG87IiB2aWV3Qm94PSIwIDAgMTAwIDEwMCIgcHJlc2VydmVBc3BlY3RSYXRpbz0ieE1pZFlNaWQiPiAgPGNpcmNsZSBjeD0iNTAiIGN5PSI1MCIgZmlsbD0ibm9uZSIgc3Ryb2tlPSIjYzNjM2MzIiBzdHJva2Utd2lkdGg9IjEwIiByPSIzNSIgc3Ryb2tlLWRhc2hhcnJheT0iMTY0LjkzMzYxNDMxMzQ2NDE1IDU2Ljk3Nzg3MTQzNzgyMTM4Ij4gICAgPGFuaW1hdGVUcmFuc2Zvcm0gYXR0cmlidXRlTmFtZT0idHJhbnNmb3JtIiB0eXBlPSJyb3RhdGUiIHJlcGVhdENvdW50PSJpbmRlZmluaXRlIiBkdXI9IjFzIiB2YWx1ZXM9IjAgNTAgNTA7MzYwIDUwIDUwIiBrZXlUaW1lcz0iMDsxIj48L2FuaW1hdGVUcmFuc2Zvcm0+ICA8L2NpcmNsZT48L3N2Zz4=\\\");\\n  background-size: auto calc(min(50%, 400px));\\n}\",{\"id\":\"1036e97e-c3ac-4d13-a213-dc465ee24605\"},{\"id\":\"5c4f0450-1bbd-439e-898e-3f71b5511c30\"},{\"id\":\"9da4272a-6d75-41bc-9a0f-14938cc9fd27\"}],\"margin\":0,\"sizing_mode\":\"stretch_width\",\"align\":\"start\"}}]}}],\"defs\":[{\"type\":\"model\",\"name\":\"ReactiveHTML1\"},{\"type\":\"model\",\"name\":\"FlexBox1\",\"properties\":[{\"name\":\"align_content\",\"kind\":\"Any\",\"default\":\"flex-start\"},{\"name\":\"align_items\",\"kind\":\"Any\",\"default\":\"flex-start\"},{\"name\":\"flex_direction\",\"kind\":\"Any\",\"default\":\"row\"},{\"name\":\"flex_wrap\",\"kind\":\"Any\",\"default\":\"wrap\"},{\"name\":\"justify_content\",\"kind\":\"Any\",\"default\":\"flex-start\"}]},{\"type\":\"model\",\"name\":\"FloatPanel1\",\"properties\":[{\"name\":\"config\",\"kind\":\"Any\",\"default\":{\"type\":\"map\"}},{\"name\":\"contained\",\"kind\":\"Any\",\"default\":true},{\"name\":\"position\",\"kind\":\"Any\",\"default\":\"right-top\"},{\"name\":\"offsetx\",\"kind\":\"Any\",\"default\":null},{\"name\":\"offsety\",\"kind\":\"Any\",\"default\":null},{\"name\":\"theme\",\"kind\":\"Any\",\"default\":\"primary\"},{\"name\":\"status\",\"kind\":\"Any\",\"default\":\"normalized\"}]},{\"type\":\"model\",\"name\":\"GridStack1\",\"properties\":[{\"name\":\"mode\",\"kind\":\"Any\",\"default\":\"warn\"},{\"name\":\"ncols\",\"kind\":\"Any\",\"default\":null},{\"name\":\"nrows\",\"kind\":\"Any\",\"default\":null},{\"name\":\"allow_resize\",\"kind\":\"Any\",\"default\":true},{\"name\":\"allow_drag\",\"kind\":\"Any\",\"default\":true},{\"name\":\"state\",\"kind\":\"Any\",\"default\":[]}]},{\"type\":\"model\",\"name\":\"drag1\",\"properties\":[{\"name\":\"slider_width\",\"kind\":\"Any\",\"default\":5},{\"name\":\"slider_color\",\"kind\":\"Any\",\"default\":\"black\"},{\"name\":\"value\",\"kind\":\"Any\",\"default\":50}]},{\"type\":\"model\",\"name\":\"click1\",\"properties\":[{\"name\":\"terminal_output\",\"kind\":\"Any\",\"default\":\"\"},{\"name\":\"debug_name\",\"kind\":\"Any\",\"default\":\"\"},{\"name\":\"clears\",\"kind\":\"Any\",\"default\":0}]},{\"type\":\"model\",\"name\":\"FastWrapper1\",\"properties\":[{\"name\":\"object\",\"kind\":\"Any\",\"default\":null},{\"name\":\"style\",\"kind\":\"Any\",\"default\":null}]},{\"type\":\"model\",\"name\":\"NotificationAreaBase1\",\"properties\":[{\"name\":\"js_events\",\"kind\":\"Any\",\"default\":{\"type\":\"map\"}},{\"name\":\"position\",\"kind\":\"Any\",\"default\":\"bottom-right\"},{\"name\":\"_clear\",\"kind\":\"Any\",\"default\":0}]},{\"type\":\"model\",\"name\":\"NotificationArea1\",\"properties\":[{\"name\":\"js_events\",\"kind\":\"Any\",\"default\":{\"type\":\"map\"}},{\"name\":\"notifications\",\"kind\":\"Any\",\"default\":[]},{\"name\":\"position\",\"kind\":\"Any\",\"default\":\"bottom-right\"},{\"name\":\"_clear\",\"kind\":\"Any\",\"default\":0},{\"name\":\"types\",\"kind\":\"Any\",\"default\":[{\"type\":\"map\",\"entries\":[[\"type\",\"warning\"],[\"background\",\"#ffc107\"],[\"icon\",{\"type\":\"map\",\"entries\":[[\"className\",\"fas fa-exclamation-triangle\"],[\"tagName\",\"i\"],[\"color\",\"white\"]]}]]},{\"type\":\"map\",\"entries\":[[\"type\",\"info\"],[\"background\",\"#007bff\"],[\"icon\",{\"type\":\"map\",\"entries\":[[\"className\",\"fas fa-info-circle\"],[\"tagName\",\"i\"],[\"color\",\"white\"]]}]]}]}]},{\"type\":\"model\",\"name\":\"Notification\",\"properties\":[{\"name\":\"background\",\"kind\":\"Any\",\"default\":null},{\"name\":\"duration\",\"kind\":\"Any\",\"default\":3000},{\"name\":\"icon\",\"kind\":\"Any\",\"default\":null},{\"name\":\"message\",\"kind\":\"Any\",\"default\":\"\"},{\"name\":\"notification_type\",\"kind\":\"Any\",\"default\":null},{\"name\":\"_destroyed\",\"kind\":\"Any\",\"default\":false}]},{\"type\":\"model\",\"name\":\"TemplateActions1\",\"properties\":[{\"name\":\"open_modal\",\"kind\":\"Any\",\"default\":0},{\"name\":\"close_modal\",\"kind\":\"Any\",\"default\":0}]},{\"type\":\"model\",\"name\":\"BootstrapTemplateActions1\",\"properties\":[{\"name\":\"open_modal\",\"kind\":\"Any\",\"default\":0},{\"name\":\"close_modal\",\"kind\":\"Any\",\"default\":0}]},{\"type\":\"model\",\"name\":\"MaterialTemplateActions1\",\"properties\":[{\"name\":\"open_modal\",\"kind\":\"Any\",\"default\":0},{\"name\":\"close_modal\",\"kind\":\"Any\",\"default\":0}]}]}};\n",
       "  var render_items = [{\"docid\":\"d1cc64e6-44cd-4959-93ea-34abcdf4c8a2\",\"roots\":{\"5e34a18e-7d28-4f40-9fb7-485460a02bd5\":\"b3292b51-0a31-475a-9726-a5647d69c6b6\"},\"root_ids\":[\"5e34a18e-7d28-4f40-9fb7-485460a02bd5\"]}];\n",
       "  var docs = Object.values(docs_json)\n",
       "  if (!docs) {\n",
       "    return\n",
       "  }\n",
       "  const py_version = docs[0].version.replace('rc', '-rc.').replace('.dev', '-dev.')\n",
       "  const is_dev = py_version.indexOf(\"+\") !== -1 || py_version.indexOf(\"-\") !== -1\n",
       "  function embed_document(root) {\n",
       "    var Bokeh = get_bokeh(root)\n",
       "    Bokeh.embed.embed_items_notebook(docs_json, render_items);\n",
       "    for (const render_item of render_items) {\n",
       "      for (const root_id of render_item.root_ids) {\n",
       "\tconst id_el = document.getElementById(root_id)\n",
       "\tif (id_el.children.length && (id_el.children[0].className === 'bk-root')) {\n",
       "\t  const root_el = id_el.children[0]\n",
       "\t  root_el.id = root_el.id + '-rendered'\n",
       "\t}\n",
       "      }\n",
       "    }\n",
       "  }\n",
       "  function get_bokeh(root) {\n",
       "    if (root.Bokeh === undefined) {\n",
       "      return null\n",
       "    } else if (root.Bokeh.version !== py_version && !is_dev) {\n",
       "      if (root.Bokeh.versions === undefined || !root.Bokeh.versions.has(py_version)) {\n",
       "\treturn null\n",
       "      }\n",
       "      return root.Bokeh.versions.get(py_version);\n",
       "    } else if (root.Bokeh.version === py_version) {\n",
       "      return root.Bokeh\n",
       "    }\n",
       "    return null\n",
       "  }\n",
       "  function is_loaded(root) {\n",
       "    var Bokeh = get_bokeh(root)\n",
       "    return (Bokeh != null && Bokeh.Panel !== undefined && ( root['Tabulator'] !== undefined) && ( root['Tabulator'] !== undefined) && ( root['Plotly'] !== undefined))\n",
       "  }\n",
       "  if (is_loaded(root)) {\n",
       "    embed_document(root);\n",
       "  } else {\n",
       "    var attempts = 0;\n",
       "    var timer = setInterval(function(root) {\n",
       "      if (is_loaded(root)) {\n",
       "        clearInterval(timer);\n",
       "        embed_document(root);\n",
       "      } else if (document.readyState == \"complete\") {\n",
       "        attempts++;\n",
       "        if (attempts > 200) {\n",
       "          clearInterval(timer);\n",
       "\t  var Bokeh = get_bokeh(root)\n",
       "\t  if (Bokeh == null || Bokeh.Panel == null) {\n",
       "            console.warn(\"Panel: ERROR: Unable to run Panel code because Bokeh or Panel library is missing\");\n",
       "\t  } else {\n",
       "\t    console.warn(\"Panel: WARNING: Attempting to render but not all required libraries could be resolved.\")\n",
       "\t    embed_document(root)\n",
       "\t  }\n",
       "        }\n",
       "      }\n",
       "    }, 25, root)\n",
       "  }\n",
       "})(window);</script>"
      ],
      "text/plain": [
       ":NdOverlay   [tag]\n",
       "   :Curve   [iteration]   (perc)"
      ]
     },
     "execution_count": 27,
     "metadata": {
      "application/vnd.holoviews_exec.v0+json": {
       "id": "5e34a18e-7d28-4f40-9fb7-485460a02bd5"
      }
     },
     "output_type": "execute_result"
    }
   ],
   "source": [
    "jank.plot.jankbench_jank_percentage_line()"
   ]
  },
  {
   "cell_type": "code",
   "execution_count": 28,
   "id": "945d825c-e8db-4a8b-b91e-ab04f5c14fb9",
   "metadata": {
    "tags": []
   },
   "outputs": [
    {
     "name": "stdout",
     "output_type": "stream",
     "text": [
      "+--------+-----------+-----------------+-------+-----------+\n",
      "| metric |    tag    |    variable     | value | perc_diff |\n",
      "+--------+-----------+-----------------+-------+-----------+\n",
      "| gmean  | mainroom  | jank_percentage |  0.8  |   0.0%    |\n",
      "| gmean  | sumroom60 | jank_percentage |  0.2  |  -75.44%  |\n",
      "+--------+-----------+-----------------+-------+-----------+\n"
     ]
    },
    {
     "data": {
      "text/html": [
       "<iframe\n",
       "    scrolling=\"no\"\n",
       "    width=\"1020px\"\n",
       "    height=\"620\"\n",
       "    src=\"iframe_figures/figure_28.html\"\n",
       "    frameborder=\"0\"\n",
       "    allowfullscreen\n",
       "></iframe>\n"
      ]
     },
     "metadata": {},
     "output_type": "display_data"
    }
   ],
   "source": [
    "jank.plot.jankbench_jank_percentage_bar()"
   ]
  },
  {
   "cell_type": "markdown",
   "id": "9d051e89-bcae-4ae0-953b-bdd4865b77c3",
   "metadata": {},
   "source": [
    "## Jankbench metrics per iteration"
   ]
  },
  {
   "cell_type": "markdown",
   "id": "a0767de4-b599-4321-aedb-c335d9ac730b",
   "metadata": {},
   "source": [
    "## Bar plot - jank percentage"
   ]
  },
  {
   "cell_type": "code",
   "execution_count": 29,
   "id": "bd3f07e4-a7e7-4c39-81b4-a56583dc13af",
   "metadata": {
    "tags": []
   },
   "outputs": [
    {
     "name": "stdout",
     "output_type": "stream",
     "text": [
      "+--------+-----------+--------------------------+-------+-----------+\n",
      "| metric |    tag    |        test_name         | value | perc_diff |\n",
      "+--------+-----------+--------------------------+-------+-----------+\n",
      "| jank_p | mainroom  |    Bitmap Upload Test    |  0.3  |   0.0%    |\n",
      "| jank_p | mainroom  |     Edit Text Input      |  2.5  |   0.0%    |\n",
      "| jank_p | mainroom  | High-hitrate text render |  1.5  |   0.0%    |\n",
      "| jank_p | mainroom  |  Image List View Fling   |  0.5  |   0.0%    |\n",
      "| jank_p | mainroom  |     List View Fling      |  0.6  |   0.0%    |\n",
      "| jank_p | mainroom  | Low-hitrate text render  |  1.1  |   0.0%    |\n",
      "| jank_p | mainroom  |      Overdraw Test       |  0.1  |   0.0%    |\n",
      "| jank_p | mainroom  |    Shadow Grid Fling     |  0.4  |   0.0%    |\n",
      "| jank_p | sumroom60 |    Bitmap Upload Test    |  0.1  |  -69.9%   |\n",
      "| jank_p | sumroom60 |     Edit Text Input      |  2.1  |  -16.52%  |\n",
      "| jank_p | sumroom60 | High-hitrate text render |  0.2  |  -89.15%  |\n",
      "| jank_p | sumroom60 |  Image List View Fling   |  0.3  |  -46.3%   |\n",
      "| jank_p | sumroom60 |     List View Fling      |  0.2  |  -72.93%  |\n",
      "| jank_p | sumroom60 | Low-hitrate text render  |  0.1  |  -88.08%  |\n",
      "| jank_p | sumroom60 |      Overdraw Test       |  0.1  |  -47.13%  |\n",
      "| jank_p | sumroom60 |    Shadow Grid Fling     |  0.2  |  -63.8%   |\n",
      "+--------+-----------+--------------------------+-------+-----------+\n"
     ]
    },
    {
     "data": {
      "text/html": [
       "<iframe\n",
       "    scrolling=\"no\"\n",
       "    width=\"100%\"\n",
       "    height=\"1020\"\n",
       "    src=\"iframe_figures/figure_29.html\"\n",
       "    frameborder=\"0\"\n",
       "    allowfullscreen\n",
       "></iframe>\n"
      ]
     },
     "metadata": {},
     "output_type": "display_data"
    }
   ],
   "source": [
    "jank.plot.jankbench_jank_percentage_metric_bar()"
   ]
  },
  {
   "cell_type": "markdown",
   "id": "3dd6b97f-958c-4686-bddb-574a551c7ea7",
   "metadata": {},
   "source": [
    "## Bar plot - mean duration"
   ]
  },
  {
   "cell_type": "markdown",
   "id": "fdacf327-0709-479a-a241-552ecf6fad2c",
   "metadata": {},
   "source": [
    "# Overutilized"
   ]
  },
  {
   "cell_type": "markdown",
   "id": "33212c12-b81f-4755-9fd9-6309269a6103",
   "metadata": {},
   "source": [
    "## Line plot"
   ]
  },
  {
   "cell_type": "code",
   "execution_count": 6,
   "id": "4afff0d2-4567-4747-bfc8-59b4b8e19162",
   "metadata": {},
   "outputs": [
    {
     "name": "stdout",
     "output_type": "stream",
     "text": [
      "+--------------+------------+------+------------+------------+\n",
      "|    metric    |    tag     | time | total_time | percentage |\n",
      "+--------------+------------+------+------------+------------+\n",
      "| overutilized | mainfridge | 8.51 |   254.32   |    3.35    |\n",
      "| overutilized | sumfridge  | 4.37 |   256.08   |    1.71    |\n",
      "+--------------+------------+------+------------+------------+\n"
     ]
    },
    {
     "data": {
      "text/html": [
       "<iframe\n",
       "    scrolling=\"no\"\n",
       "    width=\"100%\"\n",
       "    height=\"620\"\n",
       "    src=\"iframe_figures/figure_6.html\"\n",
       "    frameborder=\"0\"\n",
       "    allowfullscreen\n",
       "></iframe>\n"
      ]
     },
     "metadata": {},
     "output_type": "display_data"
    }
   ],
   "source": [
    "jank.plot.overutilized_line()"
   ]
  },
  {
   "cell_type": "markdown",
   "id": "ef18dfd4-9020-4666-8cb9-55021e206840",
   "metadata": {},
   "source": [
    "# Power usage"
   ]
  },
  {
   "cell_type": "markdown",
   "id": "bf5eb606-bc8e-4b3e-8bab-2e11eb28d6e4",
   "metadata": {},
   "source": [
    "## Bar plot"
   ]
  },
  {
   "cell_type": "code",
   "execution_count": 30,
   "id": "f3a2de01-0fee-4f19-ba49-aa99c3e59430",
   "metadata": {
    "tags": []
   },
   "outputs": [
    {
     "name": "stdout",
     "output_type": "stream",
     "text": [
      "+------------+--------+-----------+-------+-----------+\n",
      "|  channel   | metric |    tag    | value | perc_diff |\n",
      "+------------+--------+-----------+-------+-----------+\n",
      "|    CPU     | gmean  | mainroom  | 146.2 |   0.0%    |\n",
      "|  CPU-Big   | gmean  | mainroom  | 51.9  |   0.0%    |\n",
      "| CPU-Little | gmean  | mainroom  | 77.1  |   0.0%    |\n",
      "|  CPU-Mid   | gmean  | mainroom  | 17.1  |   0.0%    |\n",
      "|    GPU     | gmean  | mainroom  | 31.7  |   0.0%    |\n",
      "|   Total    | gmean  | mainroom  | 177.9 |   0.0%    |\n",
      "|    CPU     | gmean  | sumroom60 | 147.6 |   0.96%   |\n",
      "|  CPU-Big   | gmean  | sumroom60 | 46.0  |  -11.31%  |\n",
      "| CPU-Little | gmean  | sumroom60 | 80.2  |   4.05%   |\n",
      "|  CPU-Mid   | gmean  | sumroom60 | 21.4  |  24.84%   |\n",
      "|    GPU     | gmean  | sumroom60 | 31.9  |   0.66%   |\n",
      "|   Total    | gmean  | sumroom60 | 179.5 |   0.9%    |\n",
      "+------------+--------+-----------+-------+-----------+\n"
     ]
    },
    {
     "data": {
      "text/html": [
       "<iframe\n",
       "    scrolling=\"no\"\n",
       "    width=\"100%\"\n",
       "    height=\"620\"\n",
       "    src=\"iframe_figures/figure_30.html\"\n",
       "    frameborder=\"0\"\n",
       "    allowfullscreen\n",
       "></iframe>\n"
      ]
     },
     "metadata": {},
     "output_type": "display_data"
    }
   ],
   "source": [
    "jank.plot.power_meter_bar()"
   ]
  },
  {
   "cell_type": "code",
   "execution_count": 2,
   "id": "6adc184b-696a-4acb-b0a1-323a32900b58",
   "metadata": {},
   "outputs": [
    {
     "data": {
      "text/plain": [
       "1.016676370543258"
      ]
     },
     "execution_count": 2,
     "metadata": {},
     "output_type": "execute_result"
    }
   ],
   "source": [
    "main_avg_time = 254.60894279999997\n",
    "sum60_avg_time = 256.39351809999994\n",
    "1.0096 * sum60_avg_time / main_avg_time"
   ]
  },
  {
   "cell_type": "code",
   "execution_count": null,
   "id": "aacd9d17-83af-4509-ba79-8c64f020732c",
   "metadata": {},
   "outputs": [],
   "source": []
  }
 ],
 "metadata": {
  "kernelspec": {
   "display_name": "Python 3 (ipykernel)",
   "language": "python",
   "name": "python3"
  },
  "language_info": {
   "codemirror_mode": {
    "name": "ipython",
    "version": 3
   },
   "file_extension": ".py",
   "mimetype": "text/x-python",
   "name": "python",
   "nbconvert_exporter": "python",
   "pygments_lexer": "ipython3",
   "version": "3.10.12"
  }
 },
 "nbformat": 4,
 "nbformat_minor": 5
}
